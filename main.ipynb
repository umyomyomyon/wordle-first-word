{
 "cells": [
  {
   "cell_type": "code",
   "execution_count": 4,
   "id": "6d3b29c2-c8cc-4a5c-a2d6-785b840d385c",
   "metadata": {},
   "outputs": [],
   "source": [
    "import json\n",
    "\n",
    "dataset_path = \"./dictionary/words_dictionary.json\"\n",
    "words_dict = json.load(open(dataset_path, 'r'))\n",
    "# words_dict = {word0: 1, word1: 1, word2: 1, ...}"
   ]
  },
  {
   "cell_type": "code",
   "execution_count": 8,
   "id": "eb0f8f2e-f12b-4307-a66f-896c44575316",
   "metadata": {},
   "outputs": [
    {
     "name": "stdout",
     "output_type": "stream",
     "text": [
      "370101\n"
     ]
    }
   ],
   "source": [
    "words_qty = len(words_dict)\n",
    "print(words_qty)"
   ]
  },
  {
   "cell_type": "code",
   "execution_count": 20,
   "id": "4e8cc20a-0a99-42b1-b1c4-ea0437e10533",
   "metadata": {},
   "outputs": [
    {
     "name": "stdout",
     "output_type": "stream",
     "text": [
      "['brasqued', 'brasquing', 'brass', 'brassage', 'brassages']\n"
     ]
    }
   ],
   "source": [
    "# {word0: 1, word1: 1, word2: 1, ...} -> ['word0', 'word1', 'word2', ...]\n",
    "words = list(map(lambda x: x, words_dict.keys()))\n",
    "print(words[40000:40005])"
   ]
  },
  {
   "cell_type": "code",
   "execution_count": 27,
   "id": "b7f19671-03de-49b2-92c1-4dbb678565cd",
   "metadata": {},
   "outputs": [
    {
     "name": "stdout",
     "output_type": "stream",
     "text": [
      "['finca', 'finch', 'findy', 'finds', 'fined']\n",
      "15918\n"
     ]
    }
   ],
   "source": [
    "# 長さ5の単語\n",
    "words_len5 = list(filter(lambda word: len(word) == 5, words))\n",
    "words_len5_qty = len(words_len5)\n",
    "print(words_len5[5000:5005])\n",
    "print(words_len5_qty)"
   ]
  },
  {
   "cell_type": "code",
   "execution_count": 94,
   "id": "ec38d1fa-a8ef-4861-a107-0577439446c8",
   "metadata": {},
   "outputs": [
    {
     "name": "stdout",
     "output_type": "stream",
     "text": [
      "{'s': 1813, 'c': 1196, 'a': 1173, 'b': 1141, 't': 981, 'p': 944, 'm': 849, 'd': 801, 'g': 737, 'f': 684, 'r': 681, 'l': 679, 'h': 571, 'k': 473, 'w': 468, 'e': 421, 'n': 405, 'o': 334, 'u': 328, 'i': 301, 'v': 287, 'j': 260, 'y': 167, 'z': 112, 'q': 85, 'x': 27}\n",
      "26\n",
      "15918\n"
     ]
    }
   ],
   "source": [
    "def count_char(words):\n",
    "    result = [{}, {}, {}, {}, {}]\n",
    "    for word in words:\n",
    "        for i in range(5):\n",
    "            char = word[i]\n",
    "            is_exists_char_key = result[i].get(char)\n",
    "            if is_exists_char_key:\n",
    "                result[i][char] += 1\n",
    "            else:\n",
    "                result[i][char] = 1\n",
    "\n",
    "    for idx, dic in enumerate(result):\n",
    "        result[idx] = dict(\n",
    "            sorted(dic.items(), key=lambda item: item[1], reverse=True)\n",
    "        )\n",
    "    return result\n",
    "\n",
    "count_result = count_char(words_len5)\n",
    "print(count_result[0])\n",
    "\n",
    "# 確認\n",
    "print(len(count_result[0]))\n",
    "_sum = sum([num for num in count_result[3].values()])\n",
    "print(_sum)"
   ]
  },
  {
   "cell_type": "code",
   "execution_count": 149,
   "id": "d201a9e6-3702-4784-8c3c-6c25e7be668a",
   "metadata": {},
   "outputs": [
    {
     "name": "stdout",
     "output_type": "stream",
     "text": [
      "['s', 'c', 'a', 'b', 't', 'p', 'm', 'd', 'g', 'f', 'r', 'l', 'h', 'k', 'w', 'e', 'n', 'o', 'u', 'i', 'v', 'j', 'y', 'z', 'q', 'x']\n"
     ]
    }
   ],
   "source": [
    "def make_frequency(count_result):\n",
    "    freqs = list(map(lambda result: list(result.keys()), count_result))\n",
    "    return freqs\n",
    "\n",
    "freqs = make_frequency(count_result)\n",
    "print(freqs[0])"
   ]
  },
  {
   "cell_type": "code",
   "execution_count": 153,
   "id": "782ebdb0-caf8-4670-9758-886ef7fa39e4",
   "metadata": {},
   "outputs": [
    {
     "name": "stdout",
     "output_type": "stream",
     "text": [
      "s\n"
     ]
    }
   ],
   "source": [
    "# 終わりがちな末尾を考える\n",
    "end_char = freqs[-1][0] # sで終わりがち\n",
    "print(end_char)"
   ]
  },
  {
   "cell_type": "code",
   "execution_count": 274,
   "id": "de178335-01c0-4b77-9a6d-0ebe60efff0e",
   "metadata": {},
   "outputs": [
    {
     "data": {
      "text/plain": [
       "[('es', 584), ('er', 522), ('ed', 421), ('ts', 293), ('an', 249)]"
      ]
     },
     "execution_count": 274,
     "metadata": {},
     "output_type": "execute_result"
    }
   ],
   "source": [
    "# sの一つ前も考える\n",
    "from collections import Counter\n",
    "\n",
    "ends = (list(map(lambda word: word[-2:], words_len5)))\n",
    "c = Counter(ends)\n",
    "c.most_common()[:5]\n",
    "# es, er, ed, ts, anで終わりがち"
   ]
  },
  {
   "cell_type": "code",
   "execution_count": 275,
   "id": "48b4d84b-d1ac-45ea-8b96-678f6f246917",
   "metadata": {},
   "outputs": [
    {
     "name": "stdout",
     "output_type": "stream",
     "text": [
      "['a'] apply\n"
     ]
    }
   ],
   "source": [
    "def get_vowels(word):\n",
    "    vowel_chars = ['a', 'i', 'u', 'e', 'o']\n",
    "    result = []\n",
    "    for char in word:\n",
    "        if char in vowel_chars:\n",
    "            result.append(char)\n",
    "    return result\n",
    "\n",
    "print(get_vowels(words_len5[777]), words_len5[777])"
   ]
  },
  {
   "cell_type": "code",
   "execution_count": 284,
   "id": "3543d2a0-f702-430b-873f-55f326ea86a0",
   "metadata": {},
   "outputs": [
    {
     "name": "stdout",
     "output_type": "stream",
     "text": [
      "['abies', 'acies', 'agues', 'aides', 'aloes', 'amies', 'aotes', 'aries', 'aures', 'moues', 'oaves', 'roues']\n"
     ]
    }
   ],
   "source": [
    "# esで終わって、5文字の中に被りが無い単語\n",
    "es_end_words = list(filter(lambda word: word[-2:] == 'es', words_len5))\n",
    "filtered_words = []\n",
    "for word in es_end_words:\n",
    "    vowels = get_vowels(word)\n",
    "    if len(set(vowels)) > 2 and len(set(word)) == 5:\n",
    "        filtered_words.append(word)\n",
    "print(filtered_words)"
   ]
  },
  {
   "cell_type": "code",
   "execution_count": 285,
   "id": "cd41ae48-e4e1-4514-ae06-7bd5f905261d",
   "metadata": {},
   "outputs": [
    {
     "name": "stdout",
     "output_type": "stream",
     "text": [
      "1: ['s', 'c', 'a', 'b', 't']\n",
      "2: ['a', 'o', 'e', 'i', 'u']\n",
      "3: ['r', 'a', 'i', 'n', 'o']\n",
      "4: ['e', 'a', 'i', 't', 'n']\n",
      "5: ['s', 'e', 'y', 'a', 't']\n"
     ]
    },
    {
     "data": {
      "text/plain": [
       "[None, None, None, None, None]"
      ]
     },
     "execution_count": 285,
     "metadata": {},
     "output_type": "execute_result"
    }
   ],
   "source": [
    "[print(f'{idx + 1}: {freq[:5]}') for idx, freq in enumerate(freqs)]"
   ]
  },
  {
   "cell_type": "code",
   "execution_count": 286,
   "id": "803f7661-fcbc-4dca-97b9-769a3fa92dda",
   "metadata": {},
   "outputs": [
    {
     "name": "stdout",
     "output_type": "stream",
     "text": [
      "0\n"
     ]
    }
   ],
   "source": [
    "# idx + 1文字目の頻出度の順位を0〜25で返す\n",
    "def idx_freq_map(freqs, idx, char):\n",
    "    return freqs[idx].index(char)\n",
    "print(idx_freq_map(freqs, 4, 's'))"
   ]
  },
  {
   "cell_type": "code",
   "execution_count": 307,
   "id": "00e0c3f8-8afc-48ba-a083-705a848eb9de",
   "metadata": {},
   "outputs": [
    {
     "name": "stdout",
     "output_type": "stream",
     "text": [
      "[{'word': 'abies', 'score': 21}, {'word': 'acies', 'score': 16}, {'word': 'agues', 'score': 27}, {'word': 'aides', 'score': 17}, {'word': 'aloes', 'score': 12}, {'word': 'amies', 'score': 17}, {'word': 'aotes', 'score': 11}, {'word': 'aries', 'score': 9}, {'word': 'aures', 'score': 6}, {'word': 'moues', 'score': 14}, {'word': 'oaves', 'score': 34}, {'word': 'roues', 'score': 18}]\n"
     ]
    }
   ],
   "source": [
    "# 後ろ2文字はesで確定させて、前3文字を頻出度順位の合計が最小になるような単語を探す\n",
    "def make_scores(freqs, words, end):\n",
    "    results = []\n",
    "    for word in words:\n",
    "        sum = 0\n",
    "        for idx, char in enumerate(word[:end]):\n",
    "            freq = idx_freq_map(freqs, idx, char)\n",
    "            sum += freq\n",
    "        results.append({'word': word, 'score': sum})\n",
    "    return results\n",
    "word_and_scores = make_scores(freqs, filtered_words, 3)\n",
    "print(word_and_scores)"
   ]
  },
  {
   "cell_type": "code",
   "execution_count": 308,
   "id": "919b430c-eadd-442b-bd9b-1fdd0623b37e",
   "metadata": {},
   "outputs": [
    {
     "name": "stdout",
     "output_type": "stream",
     "text": [
      "aures\n"
     ]
    }
   ],
   "source": [
    "result = sorted(word_and_scores, key=lambda word_and_score: word_and_score['score'])[0]['word']\n",
    "print(result)"
   ]
  },
  {
   "cell_type": "code",
   "execution_count": null,
   "id": "6296a785-5d93-4f26-a58e-f195b5efbfd6",
   "metadata": {},
   "outputs": [],
   "source": []
  },
  {
   "cell_type": "code",
   "execution_count": null,
   "id": "c36e1f5d-eac0-434f-9ec6-05d2056dd226",
   "metadata": {},
   "outputs": [],
   "source": []
  },
  {
   "cell_type": "code",
   "execution_count": 309,
   "id": "e9a3b0e8-6c7d-4c01-a5b8-a98c8aea9668",
   "metadata": {},
   "outputs": [],
   "source": [
    "# 条件: 同じ単語を使っていない, 母音を２つ以上含んでいる"
   ]
  },
  {
   "cell_type": "code",
   "execution_count": 310,
   "id": "7fd63b0a-7bc9-48e5-b909-defddbe3e7d1",
   "metadata": {},
   "outputs": [],
   "source": [
    "filtered = []"
   ]
  },
  {
   "cell_type": "code",
   "execution_count": 311,
   "id": "00775526-0967-4fb8-b069-53662ff1b94b",
   "metadata": {},
   "outputs": [
    {
     "name": "stdout",
     "output_type": "stream",
     "text": [
      "985\n"
     ]
    }
   ],
   "source": [
    "for word in words_len5:\n",
    "    vowels = get_vowels(word)\n",
    "    if len(set(vowels)) > 2 and len(set(word)) == 5:\n",
    "        filtered.append(word)\n",
    "print(len(filtered))"
   ]
  },
  {
   "cell_type": "code",
   "execution_count": 315,
   "id": "f2dc231b-c29c-49bb-9197-aa5982277b06",
   "metadata": {},
   "outputs": [
    {
     "name": "stdout",
     "output_type": "stream",
     "text": [
      "aures\n"
     ]
    }
   ],
   "source": [
    "scored = make_scores(freqs, filtered, 5)\n",
    "another_result = sorted(scored, key=lambda word_and_score: word_and_score['score'])[0]['word']\n",
    "print(another_result)"
   ]
  },
  {
   "cell_type": "code",
   "execution_count": 316,
   "id": "2b9e7d45-09fe-483e-a29c-67eb47b0276f",
   "metadata": {},
   "outputs": [],
   "source": [
    "# やっぱりaures"
   ]
  },
  {
   "cell_type": "code",
   "execution_count": null,
   "id": "11b7e190-0b4c-4640-9422-e1642b066e04",
   "metadata": {},
   "outputs": [],
   "source": []
  },
  {
   "cell_type": "code",
   "execution_count": null,
   "id": "3730330e-b2dd-4b90-ae97-dc95f2eabfbd",
   "metadata": {},
   "outputs": [],
   "source": []
  }
 ],
 "metadata": {
  "kernelspec": {
   "display_name": "Python 3",
   "language": "python",
   "name": "python3"
  },
  "language_info": {
   "codemirror_mode": {
    "name": "ipython",
    "version": 3
   },
   "file_extension": ".py",
   "mimetype": "text/x-python",
   "name": "python",
   "nbconvert_exporter": "python",
   "pygments_lexer": "ipython3",
   "version": "3.9.2"
  }
 },
 "nbformat": 4,
 "nbformat_minor": 5
}